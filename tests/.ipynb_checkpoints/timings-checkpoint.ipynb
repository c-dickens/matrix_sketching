{
 "cells": [
  {
   "cell_type": "markdown",
   "metadata": {},
   "source": [
    "# Timing the transforms\n",
    "Can we compare the time complexity of our transforms?"
   ]
  },
  {
   "cell_type": "code",
   "execution_count": 3,
   "metadata": {},
   "outputs": [],
   "source": [
    "import numpy as np\n",
    "import pandas as pd\n",
    "import sys\n",
    "sys.path.append(\"..\")\n",
    "import lib\n",
    "from lib import CountSketch, SRHT, GaussianSketch\n",
    "\n",
    "import itertools\n",
    "from timeit import default_timer\n",
    "import matplotlib.pyplot as plt\n",
    "%matplotlib inline\n",
    "np.random.seed(10)"
   ]
  },
  {
   "cell_type": "code",
   "execution_count": null,
   "metadata": {},
   "outputs": [],
   "source": [
    "def test_time_sparsity(n_rows, n_cols, n_trials, sketch_size, densities):\n",
    "    '''\n",
    "    Function to automate the experiments measuring time \n",
    "    and varying sparsity for given input data.\n",
    "    \n",
    "    Inputs: n_rows, n_cols, n_trials, sketch_size all int\n",
    "            densities - list of densities to try\n",
    "            \n",
    "    Output: Two dictionaries with key as density value tested and\n",
    "    then the times associated with testing that experiment.\n",
    "    One dict for CWT and one for SRHT.'''\n",
    "    rho_str = [str(density) for density in densities]\n",
    "    CWT_time = {}\n",
    "    SRHT_time = {}\n",
    "\n",
    "\n",
    "    for density in densities:\n",
    "        A = sparse.random(n_rows,n_cols,density).toarray()\n",
    "        print('Testing density', density)\n",
    "        for trial in range(n_trials):\n",
    "            print(\"Trial no. \", trial)\n",
    "            CWT_summary_time = 0\n",
    "            SRHT_summary_time = 0\n",
    "    \n",
    "            start = default_timer()\n",
    "            CWT_summary = CountSketch(data=X, sketch_dimension=sketch_size,random_state=10)\n",
    "            CWT_sketch = CWT_summary.sketch(X)\n",
    "            CWT_summary_time += default_timer() - start\n",
    "        \n",
    "    \n",
    "            start = default_timer()\n",
    "            SRHT_summary = SRHT(data=X, sketch_dimension=sketch_size,random_state=10)\n",
    "            SRHT_sketch = SRHT_summary.sketch(X)\n",
    "            SRHT_summary_time = default_timer() - start\n",
    "    \n",
    "        CWT_time[str(density)] = CWT_summary_time/n_trials\n",
    "        SRHT_time[str(density)] = SRHT_summary_time/n_trials\n",
    "    \n",
    "    return CWT_time, SRHT_time"
   ]
  }
 ],
 "metadata": {
  "kernelspec": {
   "display_name": "Python 3",
   "language": "python",
   "name": "python3"
  },
  "language_info": {
   "codemirror_mode": {
    "name": "ipython",
    "version": 3
   },
   "file_extension": ".py",
   "mimetype": "text/x-python",
   "name": "python",
   "nbconvert_exporter": "python",
   "pygments_lexer": "ipython3",
   "version": "3.6.4"
  }
 },
 "nbformat": 4,
 "nbformat_minor": 2
}
